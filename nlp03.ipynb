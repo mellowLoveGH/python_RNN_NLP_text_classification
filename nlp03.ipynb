{
  "nbformat": 4,
  "nbformat_minor": 0,
  "metadata": {
    "colab": {
      "name": "tensorflow07.ipynb",
      "provenance": []
    },
    "kernelspec": {
      "name": "python3",
      "display_name": "Python 3"
    },
    "accelerator": "GPU"
  },
  "cells": [
    {
      "cell_type": "code",
      "metadata": {
        "id": "H_J85wSGWSNs"
      },
      "source": [
        "!pip install tensorflow-gpu \n",
        "!pip install tf-nightly \n"
      ],
      "execution_count": null,
      "outputs": []
    },
    {
      "cell_type": "code",
      "metadata": {
        "colab": {
          "base_uri": "https://localhost:8080/"
        },
        "id": "-D5Fif7FeiaQ",
        "outputId": "800733dc-c022-4646-b6f2-c3fb55cb3564"
      },
      "source": [
        "\n",
        "import tensorflow as tf\n",
        "print(\"Num GPUs Available: \", len(tf.config.experimental.list_physical_devices('GPU')))"
      ],
      "execution_count": null,
      "outputs": [
        {
          "output_type": "stream",
          "text": [
            "Num GPUs Available:  0\n"
          ],
          "name": "stdout"
        }
      ]
    },
    {
      "cell_type": "code",
      "metadata": {
        "colab": {
          "base_uri": "https://localhost:8080/"
        },
        "id": "z1TewDZWejUd",
        "outputId": "3a6e1d9d-1146-4a85-ed6f-66f773d57461"
      },
      "source": [
        "from keras.datasets import imdb\n",
        "from keras.preprocessing import sequence\n",
        "from keras import layers\n",
        "from keras.models import Sequential\n",
        "\n",
        "max_features = 10000\n",
        "maxlen = 500\n",
        "(x_train, y_train), (x_test, y_test) = imdb.load_data(num_words=max_features)\n",
        "x_train = [x[::-1] for x in x_train]\n",
        "x_test = [x[::-1] for x in x_test]\n",
        "x_train = sequence.pad_sequences(x_train, maxlen=maxlen)\n",
        "x_test = sequence.pad_sequences(x_test, maxlen=maxlen)\n",
        "model = Sequential()\n",
        "model.add(layers.Embedding(max_features, 128))\n",
        "model.add(layers.LSTM(32))\n",
        "model.add(layers.Dense(1, activation='sigmoid'))\n",
        "model.compile(optimizer='rmsprop', loss='binary_crossentropy', metrics=['acc'])"
      ],
      "execution_count": null,
      "outputs": [
        {
          "output_type": "stream",
          "text": [
            "Downloading data from https://storage.googleapis.com/tensorflow/tf-keras-datasets/imdb.npz\n",
            "17465344/17464789 [==============================] - 0s 0us/step\n"
          ],
          "name": "stdout"
        },
        {
          "output_type": "stream",
          "text": [
            "<string>:6: VisibleDeprecationWarning: Creating an ndarray from ragged nested sequences (which is a list-or-tuple of lists-or-tuples-or ndarrays with different lengths or shapes) is deprecated. If you meant to do this, you must specify 'dtype=object' when creating the ndarray\n",
            "/usr/local/lib/python3.6/dist-packages/tensorflow/python/keras/datasets/imdb.py:159: VisibleDeprecationWarning: Creating an ndarray from ragged nested sequences (which is a list-or-tuple of lists-or-tuples-or ndarrays with different lengths or shapes) is deprecated. If you meant to do this, you must specify 'dtype=object' when creating the ndarray\n",
            "  x_train, y_train = np.array(xs[:idx]), np.array(labels[:idx])\n",
            "/usr/local/lib/python3.6/dist-packages/tensorflow/python/keras/datasets/imdb.py:160: VisibleDeprecationWarning: Creating an ndarray from ragged nested sequences (which is a list-or-tuple of lists-or-tuples-or ndarrays with different lengths or shapes) is deprecated. If you meant to do this, you must specify 'dtype=object' when creating the ndarray\n",
            "  x_test, y_test = np.array(xs[idx:]), np.array(labels[idx:])\n"
          ],
          "name": "stderr"
        }
      ]
    },
    {
      "cell_type": "code",
      "metadata": {
        "colab": {
          "base_uri": "https://localhost:8080/"
        },
        "id": "G7BTI13CescG",
        "outputId": "2d314b03-17ac-48d4-d908-a4ab96606d2e"
      },
      "source": [
        "history = model.fit(x_train, y_train,\n",
        "epochs=10,\n",
        "batch_size=128,\n",
        "validation_split=0.2)"
      ],
      "execution_count": null,
      "outputs": [
        {
          "output_type": "stream",
          "text": [
            "Epoch 1/10\n",
            "WARNING:tensorflow:AutoGraph could not transform <function Model.make_train_function.<locals>.train_function at 0x7f988c4ef268> and will run it as-is.\n",
            "Please report this to the TensorFlow team. When filing the bug, set the verbosity to 10 (on Linux, `export AUTOGRAPH_VERBOSITY=10`) and attach the full output.\n",
            "Cause: closure mismatch, requested ('self', 'step_function'), but source function had ()\n",
            "To silence this warning, decorate the function with @tf.autograph.experimental.do_not_convert\n",
            "WARNING: AutoGraph could not transform <function Model.make_train_function.<locals>.train_function at 0x7f988c4ef268> and will run it as-is.\n",
            "Please report this to the TensorFlow team. When filing the bug, set the verbosity to 10 (on Linux, `export AUTOGRAPH_VERBOSITY=10`) and attach the full output.\n",
            "Cause: closure mismatch, requested ('self', 'step_function'), but source function had ()\n",
            "To silence this warning, decorate the function with @tf.autograph.experimental.do_not_convert\n",
            "157/157 [==============================] - ETA: 0s - loss: 0.5796 - acc: 0.6761WARNING:tensorflow:AutoGraph could not transform <function Model.make_test_function.<locals>.test_function at 0x7f98b031a0d0> and will run it as-is.\n",
            "Please report this to the TensorFlow team. When filing the bug, set the verbosity to 10 (on Linux, `export AUTOGRAPH_VERBOSITY=10`) and attach the full output.\n",
            "Cause: closure mismatch, requested ('self', 'step_function'), but source function had ()\n",
            "To silence this warning, decorate the function with @tf.autograph.experimental.do_not_convert\n",
            "WARNING: AutoGraph could not transform <function Model.make_test_function.<locals>.test_function at 0x7f98b031a0d0> and will run it as-is.\n",
            "Please report this to the TensorFlow team. When filing the bug, set the verbosity to 10 (on Linux, `export AUTOGRAPH_VERBOSITY=10`) and attach the full output.\n",
            "Cause: closure mismatch, requested ('self', 'step_function'), but source function had ()\n",
            "To silence this warning, decorate the function with @tf.autograph.experimental.do_not_convert\n",
            "157/157 [==============================] - 79s 496ms/step - loss: 0.5790 - acc: 0.6767 - val_loss: 0.5161 - val_acc: 0.7896\n",
            "Epoch 2/10\n",
            "157/157 [==============================] - 77s 493ms/step - loss: 0.3188 - acc: 0.8769 - val_loss: 0.3692 - val_acc: 0.8614\n",
            "Epoch 3/10\n",
            "157/157 [==============================] - 78s 495ms/step - loss: 0.2536 - acc: 0.9067 - val_loss: 0.3310 - val_acc: 0.8702\n",
            "Epoch 4/10\n",
            "157/157 [==============================] - 77s 493ms/step - loss: 0.1997 - acc: 0.9285 - val_loss: 0.3584 - val_acc: 0.8520\n",
            "Epoch 5/10\n",
            "157/157 [==============================] - 77s 490ms/step - loss: 0.1846 - acc: 0.9369 - val_loss: 0.3790 - val_acc: 0.8756\n",
            "Epoch 6/10\n",
            "157/157 [==============================] - 77s 488ms/step - loss: 0.1584 - acc: 0.9460 - val_loss: 0.3698 - val_acc: 0.8808\n",
            "Epoch 7/10\n",
            "157/157 [==============================] - 76s 485ms/step - loss: 0.1467 - acc: 0.9482 - val_loss: 0.3609 - val_acc: 0.8784\n",
            "Epoch 8/10\n",
            "157/157 [==============================] - 76s 484ms/step - loss: 0.1299 - acc: 0.9567 - val_loss: 0.4001 - val_acc: 0.8534\n",
            "Epoch 9/10\n",
            "157/157 [==============================] - 76s 482ms/step - loss: 0.1200 - acc: 0.9620 - val_loss: 0.4719 - val_acc: 0.8448\n",
            "Epoch 10/10\n",
            "157/157 [==============================] - 76s 483ms/step - loss: 0.1084 - acc: 0.9631 - val_loss: 0.5029 - val_acc: 0.8316\n"
          ],
          "name": "stdout"
        }
      ]
    },
    {
      "cell_type": "code",
      "metadata": {
        "colab": {
          "base_uri": "https://localhost:8080/"
        },
        "id": "5zXhCTpQfhQW",
        "outputId": "fc4ecbcd-d69e-4dcc-b7c4-47f2c6628857"
      },
      "source": [
        "model = Sequential()\n",
        "model.add(layers.Embedding(max_features, 32))\n",
        "model.add(layers.Bidirectional(layers.LSTM(32)))\n",
        "model.add(layers.Dense(1, activation='sigmoid'))\n",
        "\n",
        "model.compile(optimizer='rmsprop', loss='binary_crossentropy', metrics=['acc'])\n",
        "history = model.fit(x_train, y_train,\n",
        "  epochs=10,\n",
        "  batch_size=128,\n",
        "  validation_split=0.2)\n"
      ],
      "execution_count": null,
      "outputs": [
        {
          "output_type": "stream",
          "text": [
            "Epoch 1/10\n",
            "WARNING:tensorflow:AutoGraph could not transform <function Model.make_train_function.<locals>.train_function at 0x7f98b0270b70> and will run it as-is.\n",
            "Please report this to the TensorFlow team. When filing the bug, set the verbosity to 10 (on Linux, `export AUTOGRAPH_VERBOSITY=10`) and attach the full output.\n",
            "Cause: closure mismatch, requested ('self', 'step_function'), but source function had ()\n",
            "To silence this warning, decorate the function with @tf.autograph.experimental.do_not_convert\n",
            "WARNING: AutoGraph could not transform <function Model.make_train_function.<locals>.train_function at 0x7f98b0270b70> and will run it as-is.\n",
            "Please report this to the TensorFlow team. When filing the bug, set the verbosity to 10 (on Linux, `export AUTOGRAPH_VERBOSITY=10`) and attach the full output.\n",
            "Cause: closure mismatch, requested ('self', 'step_function'), but source function had ()\n",
            "To silence this warning, decorate the function with @tf.autograph.experimental.do_not_convert\n",
            "157/157 [==============================] - ETA: 0s - loss: 0.6430 - acc: 0.6132WARNING:tensorflow:AutoGraph could not transform <function Model.make_test_function.<locals>.test_function at 0x7f988afc9510> and will run it as-is.\n",
            "Please report this to the TensorFlow team. When filing the bug, set the verbosity to 10 (on Linux, `export AUTOGRAPH_VERBOSITY=10`) and attach the full output.\n",
            "Cause: closure mismatch, requested ('self', 'step_function'), but source function had ()\n",
            "To silence this warning, decorate the function with @tf.autograph.experimental.do_not_convert\n",
            "WARNING: AutoGraph could not transform <function Model.make_test_function.<locals>.test_function at 0x7f988afc9510> and will run it as-is.\n",
            "Please report this to the TensorFlow team. When filing the bug, set the verbosity to 10 (on Linux, `export AUTOGRAPH_VERBOSITY=10`) and attach the full output.\n",
            "Cause: closure mismatch, requested ('self', 'step_function'), but source function had ()\n",
            "To silence this warning, decorate the function with @tf.autograph.experimental.do_not_convert\n",
            "157/157 [==============================] - 77s 478ms/step - loss: 0.6426 - acc: 0.6138 - val_loss: 0.4183 - val_acc: 0.8380\n",
            "Epoch 2/10\n",
            "157/157 [==============================] - 75s 476ms/step - loss: 0.3880 - acc: 0.8526 - val_loss: 0.3436 - val_acc: 0.8630\n",
            "Epoch 3/10\n",
            "157/157 [==============================] - 75s 480ms/step - loss: 0.2846 - acc: 0.8955 - val_loss: 0.3374 - val_acc: 0.8714\n",
            "Epoch 4/10\n",
            "157/157 [==============================] - 75s 476ms/step - loss: 0.2311 - acc: 0.9188 - val_loss: 0.3608 - val_acc: 0.8566\n",
            "Epoch 5/10\n",
            "157/157 [==============================] - 75s 475ms/step - loss: 0.1992 - acc: 0.9299 - val_loss: 0.3159 - val_acc: 0.8718\n",
            "Epoch 6/10\n",
            "157/157 [==============================] - 76s 484ms/step - loss: 0.1742 - acc: 0.9398 - val_loss: 0.3467 - val_acc: 0.8846\n",
            "Epoch 7/10\n",
            "157/157 [==============================] - 79s 501ms/step - loss: 0.1567 - acc: 0.9491 - val_loss: 0.3581 - val_acc: 0.8830\n",
            "Epoch 8/10\n",
            "157/157 [==============================] - 75s 476ms/step - loss: 0.1388 - acc: 0.9541 - val_loss: 0.3381 - val_acc: 0.8792\n",
            "Epoch 9/10\n",
            "157/157 [==============================] - 74s 473ms/step - loss: 0.1235 - acc: 0.9586 - val_loss: 0.3878 - val_acc: 0.8766\n",
            "Epoch 10/10\n",
            "157/157 [==============================] - 74s 474ms/step - loss: 0.1217 - acc: 0.9607 - val_loss: 0.3782 - val_acc: 0.8682\n"
          ],
          "name": "stdout"
        }
      ]
    },
    {
      "cell_type": "code",
      "metadata": {
        "colab": {
          "base_uri": "https://localhost:8080/",
          "height": 281
        },
        "id": "6rG__E1IkbH-",
        "outputId": "98a452d6-14c2-450c-e62d-3dc857341c22"
      },
      "source": [
        "import matplotlib.pyplot as plt\n",
        "loss = history.history['loss']\n",
        "val_loss = history.history['val_loss']\n",
        "epochs = range(1, len(loss) + 1)\n",
        "plt.figure()\n",
        "plt.plot(epochs, loss, 'bo', label='Training loss')\n",
        "plt.plot(epochs, val_loss, 'b', label='Validation loss')\n",
        "plt.title('Training and validation loss')\n",
        "plt.legend()\n",
        "plt.show()"
      ],
      "execution_count": null,
      "outputs": [
        {
          "output_type": "display_data",
          "data": {
            "image/png": "[encoded data removed]",
            "text/plain": [
              "<Figure size 432x288 with 1 Axes>"
            ]
          },
          "metadata": {
            "tags": [],
            "needs_background": "light"
          }
        }
      ]
    },
    {
      "cell_type": "code",
      "metadata": {
        "id": "m3Q5vuXUfuVv"
      },
      "source": [
        "from keras.models import Sequential\n",
        "from keras import layers\n",
        "from keras.optimizers import RMSprop\n",
        "model = Sequential()\n",
        "model.add(layers.Bidirectional(\n",
        "layers.GRU(32), input_shape=(None, float_data.shape[-1])))\n",
        "model.add(layers.Dense(1))\n",
        "model.compile(optimizer=RMSprop(), loss='mae')\n",
        "history = model.fit_generator(train_gen,\n",
        "steps_per_epoch=500,\n",
        "epochs=40,\n",
        "validation_data=val_gen,\n",
        "validation_steps=val_steps)"
      ],
      "execution_count": null,
      "outputs": []
    }
  ]
}