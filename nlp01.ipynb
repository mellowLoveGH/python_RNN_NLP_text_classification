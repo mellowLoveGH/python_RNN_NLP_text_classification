{
  "nbformat": 4,
  "nbformat_minor": 0,
  "metadata": {
    "colab": {
      "name": "DM03.ipynb",
      "provenance": [],
      "collapsed_sections": []
    },
    "kernelspec": {
      "name": "python3",
      "display_name": "Python 3"
    }
  },
  "cells": [
    {
      "cell_type": "code",
      "metadata": {
        "id": "TRpmjCHVGJZ4"
      },
      "source": [
        "# https://www.techwithtim.net/tutorials/ai-chatbot/\n",
        "# https://www.techwithtim.net/tutorials/ai-chatbot/part-1/"
      ],
      "execution_count": null,
      "outputs": []
    },
    {
      "cell_type": "code",
      "metadata": {
        "colab": {
          "base_uri": "https://localhost:8080/"
        },
        "id": "6dMH2AVuE88S",
        "outputId": "42e1ad94-9aa5-447a-802a-e5e279a99601"
      },
      "source": [
        "! wget https://techwithtim.net/wp-content/uploads/2019/05/json-file.zip\n",
        "! unzip json-file.zip"
      ],
      "execution_count": null,
      "outputs": [
        {
          "output_type": "stream",
          "text": [
            "--2021-01-04 06:35:38--  https://techwithtim.net/wp-content/uploads/2019/05/json-file.zip\n",
            "Resolving techwithtim.net (techwithtim.net)... 45.60.98.218, 45.60.22.218\n",
            "Connecting to techwithtim.net (techwithtim.net)|45.60.98.218|:443... connected.\n",
            "HTTP request sent, awaiting response... 200 OK\n",
            "Length: 212 [text/html]\n",
            "Saving to: ‘json-file.zip’\n",
            "\n",
            "json-file.zip       100%[===================>]     212  --.-KB/s    in 0s      \n",
            "\n",
            "2021-01-04 06:35:39 (26.4 MB/s) - ‘json-file.zip’ saved [212/212]\n",
            "\n",
            "Archive:  json-file.zip\n",
            "  End-of-central-directory signature not found.  Either this file is not\n",
            "  a zipfile, or it constitutes one disk of a multi-part archive.  In the\n",
            "  latter case the central directory and zipfile comment will be found on\n",
            "  the last disk(s) of this archive.\n",
            "unzip:  cannot find zipfile directory in one of json-file.zip or\n",
            "        json-file.zip.zip, and cannot find json-file.zip.ZIP, period.\n"
          ],
          "name": "stdout"
        }
      ]
    },
    {
      "cell_type": "code",
      "metadata": {
        "colab": {
          "base_uri": "https://localhost:8080/"
        },
        "id": "50rs-n_BFOzi",
        "outputId": "fb7ec121-0e4b-47a2-d2f9-6f9799db9728"
      },
      "source": [
        "import nltk\n",
        "from nltk.stem.lancaster import LancasterStemmer\n",
        "stemmer = LancasterStemmer()\n",
        "\n",
        "! pip install tflearn\n",
        "\n",
        "import numpy\n",
        "import tflearn\n",
        "import tensorflow\n",
        "import random\n",
        "\n",
        "nltk.download('punkt')"
      ],
      "execution_count": null,
      "outputs": [
        {
          "output_type": "stream",
          "text": [
            "Requirement already satisfied: tflearn in /usr/local/lib/python3.6/dist-packages (0.5.0)\n",
            "Requirement already satisfied: Pillow in /usr/local/lib/python3.6/dist-packages (from tflearn) (7.0.0)\n",
            "Requirement already satisfied: numpy in /usr/local/lib/python3.6/dist-packages (from tflearn) (1.19.4)\n",
            "Requirement already satisfied: six in /usr/local/lib/python3.6/dist-packages (from tflearn) (1.15.0)\n",
            "[nltk_data] Downloading package punkt to /root/nltk_data...\n",
            "[nltk_data]   Unzipping tokenizers/punkt.zip.\n"
          ],
          "name": "stdout"
        },
        {
          "output_type": "execute_result",
          "data": {
            "text/plain": [
              "True"
            ]
          },
          "metadata": {
            "tags": []
          },
          "execution_count": 10
        }
      ]
    },
    {
      "cell_type": "code",
      "metadata": {
        "id": "hvmZx7ZBF6Mi"
      },
      "source": [
        "import json\n",
        "with open('intents.json') as file:\n",
        "  data = json.load(file)\n",
        "\n",
        "\n",
        "print(type(data))\n",
        "print(len(data))\n",
        "\n",
        "words = []\n",
        "labels = []\n",
        "docs_x = []\n",
        "docs_y = []\n",
        "\n",
        "for intent in data['intents']:\n",
        "  for pattern in intent['patterns']:    \n",
        "    wrds = nltk.word_tokenize(pattern)\n",
        "    words.extend(wrds)\n",
        "    docs_x.append(wrds)\n",
        "    docs_y.append(intent[\"tag\"])\n",
        "  if intent['tag'] not in labels:\n",
        "    labels.append(intent['tag'])\n",
        "\n",
        "print(words)\n",
        "print(len(words))\n",
        "print()\n",
        "print(labels)\n",
        "print(len(labels))\n",
        "print()\n",
        "print(docs_x)\n",
        "print(len(docs_x))\n",
        "print()\n",
        "print(docs_y)\n",
        "print(len(docs_y))\n",
        "print()"
      ],
      "execution_count": null,
      "outputs": []
    },
    {
      "cell_type": "code",
      "metadata": {
        "id": "c-OiT0zRIkq4"
      },
      "source": [
        "words = [stemmer.stem(w.lower()) for w in words if w != \"?\"]\n",
        "print(words)\n",
        "print(len(words))\n",
        "print()\n",
        "words = sorted(list(set(words)))\n",
        "print(words)\n",
        "print(len(words))\n",
        "print()\n",
        "\n",
        "labels = sorted(labels)\n",
        "print(labels)\n",
        "print(len(labels))\n",
        "print()"
      ],
      "execution_count": null,
      "outputs": []
    },
    {
      "cell_type": "code",
      "metadata": {
        "colab": {
          "base_uri": "https://localhost:8080/"
        },
        "id": "sk0vp3shI8EN",
        "outputId": "fd895047-a24d-480c-d0cf-c4b5b04c3611"
      },
      "source": [
        "training = []\n",
        "output = []\n",
        "\n",
        "out_empty = [0 for _ in range(len(labels))]\n",
        "print(out_empty)\n",
        "print()\n",
        "\n",
        "for x, doc in enumerate(docs_x):\n",
        "  bag = []\n",
        "  wrds = [stemmer.stem(w.lower()) for w in doc]\n",
        "  for w in words:\n",
        "    if w in wrds:\n",
        "      bag.append(1)\n",
        "    else:\n",
        "      bag.append(0)\n",
        "  output_row = out_empty[:]  \n",
        "  output_row[labels.index(docs_y[x])] = 1\n",
        "  training.append(bag)\n",
        "  output.append(output_row)\n",
        "\n",
        "training = numpy.array(training)\n",
        "output = numpy.array(output)\n",
        "print(training.shape)\n",
        "print(output.shape)\n",
        "print()\n",
        "\n",
        "import pickle\n",
        "with open(\"data.pickle\", \"wb\") as f:\n",
        "  pickle.dump((words, labels, training, output), f)"
      ],
      "execution_count": null,
      "outputs": [
        {
          "output_type": "stream",
          "text": [
            "[0, 0, 0, 0, 0, 0]\n",
            "\n",
            "(26, 46)\n",
            "(26, 6)\n",
            "\n"
          ],
          "name": "stdout"
        }
      ]
    },
    {
      "cell_type": "code",
      "metadata": {
        "id": "7fb0gWdDJvyL"
      },
      "source": [
        "#from tensorflow.keras import backend\n",
        "#tensorflow.reset_default_graph()\n",
        "from tensorflow.python.framework import ops\n",
        "ops.reset_default_graph()\n",
        "\n",
        "net = tflearn.input_data(shape=[None, len(training[0])])\n",
        "net = tflearn.fully_connected(net, 8)\n",
        "net = tflearn.fully_connected(net, 8)\n",
        "net = tflearn.fully_connected(net, len(output[0]), activation=\"softmax\")\n",
        "net = tflearn.regression(net)\n",
        "\n",
        "model = tflearn.DNN(net)"
      ],
      "execution_count": null,
      "outputs": []
    },
    {
      "cell_type": "code",
      "metadata": {
        "colab": {
          "base_uri": "https://localhost:8080/"
        },
        "id": "4vEVtZN7IcEj",
        "outputId": "3fa7a285-beaf-47fc-fdd6-b579594c8b08"
      },
      "source": [
        "try:\n",
        "  model.load(\"model.tflearn\")\n",
        "except:\n",
        "  model.fit(training, output, n_epoch=1000, batch_size=8, show_metric=True)\n",
        "  model.save(\"model.tflearn\")\n",
        "\n",
        "model.fit(training, output, n_epoch=1000, batch_size=8, show_metric=True)"
      ],
      "execution_count": null,
      "outputs": [
        {
          "output_type": "stream",
          "text": [
            "Training Step: 4999  | total loss: \u001b[1m\u001b[32m0.16766\u001b[0m\u001b[0m | time: 0.025s\n",
            "| Adam | epoch: 1000 | loss: 0.16766 - acc: 0.9919 -- iter: 24/26\n",
            "Training Step: 5000  | total loss: \u001b[1m\u001b[32m0.15312\u001b[0m\u001b[0m | time: 0.035s\n",
            "| Adam | epoch: 1000 | loss: 0.15312 - acc: 0.9927 -- iter: 26/26\n",
            "--\n"
          ],
          "name": "stdout"
        }
      ]
    },
    {
      "cell_type": "code",
      "metadata": {
        "colab": {
          "base_uri": "https://localhost:8080/"
        },
        "id": "_JkxYl05KLkL",
        "outputId": "1f86b1a0-01d9-4934-c2a7-78125b0c7908"
      },
      "source": [
        "def bag_of_words(s, words):\n",
        "  bag = [0 for _ in range(len(words))]\n",
        "\n",
        "  s_words = nltk.word_tokenize(s)\n",
        "  s_words = [stemmer.stem(word.lower()) for word in s_words]\n",
        "\n",
        "  for se in s_words:\n",
        "    for i, w in enumerate(words):\n",
        "      if w == se:\n",
        "        bag[i] = 1\n",
        "          \n",
        "  return numpy.array(bag)\n",
        "\n",
        "\n",
        "def chat():\n",
        "  print(\"Start talking with the bot (type quit to stop)!\")\n",
        "  while True:\n",
        "    inp = input(\"You: \")\n",
        "    if inp.lower() == \"quit\":\n",
        "      break\n",
        "\n",
        "    results = model.predict([bag_of_words(inp, words)])\n",
        "    results_index = numpy.argmax(results)\n",
        "    tag = labels[results_index]\n",
        "\n",
        "    for tg in data[\"intents\"]:\n",
        "      if tg['tag'] == tag:\n",
        "        responses = tg['responses']\n",
        "\n",
        "    print(random.choice(responses))\n",
        "\n",
        "chat()\n"
      ],
      "execution_count": null,
      "outputs": [
        {
          "output_type": "stream",
          "text": [
            "Start talking with the bot (type quit to stop)!\n",
            "You: nice to meet you\n",
            "I am 18 years old!\n",
            "You: what is your name\n",
            "You can call me Tim.\n",
            "You: have you had lunch\n",
            "I'm Tim aka Tech With Tim.\n",
            "You: how old are you\n",
            "18 years young!\n",
            "You: are you american?\n",
            "Hello!\n",
            "You: you are great\n",
            "Hello!\n",
            "You: quit\n"
          ],
          "name": "stdout"
        }
      ]
    },
    {
      "cell_type": "code",
      "metadata": {
        "id": "SV9BNBADtAD2"
      },
      "source": [
        ""
      ],
      "execution_count": null,
      "outputs": []
    },
    {
      "cell_type": "code",
      "metadata": {
        "colab": {
          "base_uri": "https://localhost:8080/"
        },
        "id": "SS8ue2fPtlB_",
        "outputId": "8d29a64d-a27e-4f41-e225-7688f7126fb9"
      },
      "source": [
        "import pathlib\n",
        "\n",
        "import matplotlib.pyplot as plt\n",
        "import pandas as pd\n",
        "import seaborn as sns\n",
        "\n",
        "import tensorflow as tf\n",
        "\n",
        "from tensorflow import keras\n",
        "from tensorflow.keras import layers\n",
        "\n",
        "print(tf.__version__)\n",
        "dataset_path = keras.utils.get_file(\"auto-mpg.data\", \"http://archive.ics.uci.edu/ml/machine-learning-databases/auto-mpg/auto-mpg.data\")\n",
        "print(dataset_path)\n",
        "print(type(dataset_path))\n"
      ],
      "execution_count": null,
      "outputs": [
        {
          "output_type": "stream",
          "text": [
            "2.4.0\n",
            "Downloading data from http://archive.ics.uci.edu/ml/machine-learning-databases/auto-mpg/auto-mpg.data\n",
            "32768/30286 [================================] - 0s 1us/step\n",
            "/root/.keras/datasets/auto-mpg.data\n",
            "<class 'str'>\n"
          ],
          "name": "stdout"
        }
      ]
    },
    {
      "cell_type": "code",
      "metadata": {
        "id": "knqLjvD-IGKz"
      },
      "source": [
        "column_names = ['MPG','Cylinders','Displacement','Horsepower','Weight', 'Acceleration', 'Model Year', 'Origin']\n",
        "raw_dataset = pd.read_csv(dataset_path, names=column_names, na_values = \"?\", comment='\\t', sep=\" \", skipinitialspace=True)\n",
        "\n",
        "dataset = raw_dataset.copy()\n",
        "print( dataset.head() )\n",
        "#print( dataset.tail() )\n",
        "\n",
        "print(type(dataset))\n",
        "print(dataset.shape)\n",
        "print()\n",
        "\n",
        "for col in dataset:\n",
        "  print(col)"
      ],
      "execution_count": null,
      "outputs": []
    },
    {
      "cell_type": "code",
      "metadata": {
        "id": "DvcRF5QFIo2y"
      },
      "source": [
        "#print(dataset.isna().sum())\n",
        "print()\n",
        "dataset = dataset.dropna()\n",
        "#print(dataset.isna().sum())\n",
        "print()\n",
        "\n",
        "origin = dataset['Origin']\n",
        "print( type(origin) )\n",
        "print( len(origin) )\n",
        "print()\n",
        "\n",
        "for col in dataset:\n",
        "  print(col, end=\" \")\n",
        "print()\n",
        "#origin = dataset.pop('Origin')\n",
        "for col in dataset:\n",
        "  print(col, end=\" \")\n",
        "print()\n",
        "\n",
        "def category(collections):\n",
        "  ctg = set()\n",
        "  for i in collections:\n",
        "    ctg.add(i)\n",
        "  return ctg\n",
        "\n",
        "ctg = category(origin)\n",
        "print(ctg)\n",
        "print()\n",
        "\n",
        "dataset['USA'] = (origin == 1)*1.0\n",
        "dataset['Europe'] = (origin == 2)*1.0\n",
        "dataset['Japan'] = (origin == 3)*1.0\n",
        "dataset.tail()\n"
      ],
      "execution_count": null,
      "outputs": []
    },
    {
      "cell_type": "code",
      "metadata": {
        "id": "8oQHO8g-Jorz"
      },
      "source": [
        "train_dataset = dataset.sample(frac=0.8, random_state=0)\n",
        "test_dataset = dataset.drop(train_dataset.index)"
      ],
      "execution_count": null,
      "outputs": []
    },
    {
      "cell_type": "code",
      "metadata": {
        "id": "MKSfH3WgHLlW"
      },
      "source": [
        "print( len(train_dataset) )\n",
        "for col in train_dataset:\n",
        "  print(col)\n",
        "print()\n",
        "sub_set = train_dataset[[\"MPG\", \"Cylinders\", \"Displacement\", \"Weight\"]]\n",
        "print( len(sub_set) )\n",
        "for col in sub_set:\n",
        "  print(col)\n",
        "print()\n",
        "print( len(sub_set[\"MPG\"]) )\n",
        "print( sub_set.head() )\n",
        "\n",
        "sns.pairplot(train_dataset[[\"MPG\", \"Cylinders\", \"Displacement\", \"Weight\"]], diag_kind=\"kde\")"
      ],
      "execution_count": null,
      "outputs": []
    },
    {
      "cell_type": "code",
      "metadata": {
        "id": "_QtVZJrMuUD4"
      },
      "source": [
        "train_stats = train_dataset.describe()\n",
        "train_stats.pop(\"MPG\")\n",
        "train_stats = train_stats.transpose()\n",
        "train_stats"
      ],
      "execution_count": null,
      "outputs": []
    },
    {
      "cell_type": "code",
      "metadata": {
        "id": "vaLfm-7ku2h-"
      },
      "source": [
        "train_labels = train_dataset.pop('MPG')\n",
        "test_labels = test_dataset.pop('MPG')"
      ],
      "execution_count": null,
      "outputs": []
    },
    {
      "cell_type": "code",
      "metadata": {
        "id": "m7dBBY9Tu6h_"
      },
      "source": [
        "def norm(x):\n",
        "  return (x - train_stats['mean']) / train_stats['std']\n",
        "normed_train_data = norm(train_dataset)\n",
        "normed_test_data = norm(test_dataset)\n",
        "\n",
        "def build_model():\n",
        "  model = keras.Sequential([\n",
        "    layers.Dense(64, activation='relu', input_shape=[len(train_dataset.keys())]),\n",
        "    layers.Dense(64, activation='relu'),\n",
        "    layers.Dense(1)\n",
        "  ])\n",
        "\n",
        "  optimizer = tf.keras.optimizers.RMSprop(0.001)\n",
        "\n",
        "  model.compile(loss='mse', optimizer=optimizer, metrics=['mae', 'mse'])\n",
        "  return model\n",
        "\n",
        "print( train_dataset.keys() )\n",
        "\n",
        "model = build_model()\n",
        "model.summary()"
      ],
      "execution_count": null,
      "outputs": []
    },
    {
      "cell_type": "code",
      "metadata": {
        "colab": {
          "base_uri": "https://localhost:8080/"
        },
        "id": "cy56mkoDw5ZP",
        "outputId": "fbb12a04-837d-438e-f24a-060e89bea681"
      },
      "source": [
        "example_batch = normed_train_data[:10]\n",
        "example_result = model.predict(example_batch)\n",
        "print( example_result )"
      ],
      "execution_count": null,
      "outputs": [
        {
          "output_type": "stream",
          "text": [
            "[[-0.13567209]\n",
            " [-0.3127199 ]\n",
            " [-0.61226416]\n",
            " [-0.31106234]\n",
            " [-0.18240961]\n",
            " [-0.18181778]\n",
            " [-0.24357507]\n",
            " [-0.54772526]\n",
            " [-0.17363127]\n",
            " [ 0.03905667]]\n"
          ],
          "name": "stdout"
        }
      ]
    },
    {
      "cell_type": "code",
      "metadata": {
        "colab": {
          "base_uri": "https://localhost:8080/"
        },
        "id": "j4YOJvptxKjl",
        "outputId": "1f2694c1-7a96-4181-e608-80a407f9121c"
      },
      "source": [
        "class PrintDot(keras.callbacks.Callback):\n",
        "  def on_epoch_end(self, epoch, logs):\n",
        "    if epoch % 100 == 0: print('')\n",
        "    print('.', end='')\n",
        "\n",
        "EPOCHS = 1000\n",
        "\n",
        "history = model.fit(\n",
        "  normed_train_data, train_labels,\n",
        "  epochs=EPOCHS, validation_split = 0.2, verbose=0,\n",
        "  callbacks=[PrintDot()])"
      ],
      "execution_count": null,
      "outputs": [
        {
          "output_type": "stream",
          "text": [
            "\n",
            "....................................................................................................\n",
            "....................................................................................................\n",
            "....................................................................................................\n",
            "....................................................................................................\n",
            "....................................................................................................\n",
            "....................................................................................................\n",
            "....................................................................................................\n",
            "....................................................................................................\n",
            "....................................................................................................\n",
            "...................................................................................................."
          ],
          "name": "stdout"
        }
      ]
    },
    {
      "cell_type": "code",
      "metadata": {
        "colab": {
          "base_uri": "https://localhost:8080/",
          "height": 202
        },
        "id": "OCdHaNKTxQy_",
        "outputId": "ae6d3824-35ff-403d-d135-a0c6005f340a"
      },
      "source": [
        "hist = pd.DataFrame(history.history)\n",
        "hist['epoch'] = history.epoch\n",
        "hist.tail()"
      ],
      "execution_count": null,
      "outputs": [
        {
          "output_type": "execute_result",
          "data": {
            "text/html": [
              "<div>\n",
              "<style scoped>\n",
              "    .dataframe tbody tr th:only-of-type {\n",
              "        vertical-align: middle;\n",
              "    }\n",
              "\n",
              "    .dataframe tbody tr th {\n",
              "        vertical-align: top;\n",
              "    }\n",
              "\n",
              "    .dataframe thead th {\n",
              "        text-align: right;\n",
              "    }\n",
              "</style>\n",
              "<table border=\"1\" class=\"dataframe\">\n",
              "  <thead>\n",
              "    <tr style=\"text-align: right;\">\n",
              "      <th></th>\n",
              "      <th>loss</th>\n",
              "      <th>mae</th>\n",
              "      <th>mse</th>\n",
              "      <th>val_loss</th>\n",
              "      <th>val_mae</th>\n",
              "      <th>val_mse</th>\n",
              "      <th>epoch</th>\n",
              "    </tr>\n",
              "  </thead>\n",
              "  <tbody>\n",
              "    <tr>\n",
              "      <th>995</th>\n",
              "      <td>1.951586</td>\n",
              "      <td>0.902872</td>\n",
              "      <td>1.951586</td>\n",
              "      <td>9.154783</td>\n",
              "      <td>2.331345</td>\n",
              "      <td>9.154783</td>\n",
              "      <td>995</td>\n",
              "    </tr>\n",
              "    <tr>\n",
              "      <th>996</th>\n",
              "      <td>1.936581</td>\n",
              "      <td>0.899411</td>\n",
              "      <td>1.936581</td>\n",
              "      <td>9.088539</td>\n",
              "      <td>2.328177</td>\n",
              "      <td>9.088539</td>\n",
              "      <td>996</td>\n",
              "    </tr>\n",
              "    <tr>\n",
              "      <th>997</th>\n",
              "      <td>1.948966</td>\n",
              "      <td>0.876480</td>\n",
              "      <td>1.948966</td>\n",
              "      <td>10.151873</td>\n",
              "      <td>2.459747</td>\n",
              "      <td>10.151873</td>\n",
              "      <td>997</td>\n",
              "    </tr>\n",
              "    <tr>\n",
              "      <th>998</th>\n",
              "      <td>2.180131</td>\n",
              "      <td>0.979934</td>\n",
              "      <td>2.180131</td>\n",
              "      <td>9.162653</td>\n",
              "      <td>2.352709</td>\n",
              "      <td>9.162653</td>\n",
              "      <td>998</td>\n",
              "    </tr>\n",
              "    <tr>\n",
              "      <th>999</th>\n",
              "      <td>1.844697</td>\n",
              "      <td>0.877748</td>\n",
              "      <td>1.844697</td>\n",
              "      <td>9.486108</td>\n",
              "      <td>2.344347</td>\n",
              "      <td>9.486108</td>\n",
              "      <td>999</td>\n",
              "    </tr>\n",
              "  </tbody>\n",
              "</table>\n",
              "</div>"
            ],
            "text/plain": [
              "         loss       mae       mse   val_loss   val_mae    val_mse  epoch\n",
              "995  1.951586  0.902872  1.951586   9.154783  2.331345   9.154783    995\n",
              "996  1.936581  0.899411  1.936581   9.088539  2.328177   9.088539    996\n",
              "997  1.948966  0.876480  1.948966  10.151873  2.459747  10.151873    997\n",
              "998  2.180131  0.979934  2.180131   9.162653  2.352709   9.162653    998\n",
              "999  1.844697  0.877748  1.844697   9.486108  2.344347   9.486108    999"
            ]
          },
          "metadata": {
            "tags": []
          },
          "execution_count": 16
        }
      ]
    },
    {
      "cell_type": "code",
      "metadata": {
        "colab": {
          "base_uri": "https://localhost:8080/",
          "height": 549
        },
        "id": "HHzU_sa1xiiN",
        "outputId": "0060722e-bfae-489d-b0ed-9eea4c4b2dfb"
      },
      "source": [
        "def plot_history(history):\n",
        "  hist = pd.DataFrame(history.history)\n",
        "  hist['epoch'] = history.epoch\n",
        "\n",
        "  plt.figure()\n",
        "  plt.xlabel('Epoch')\n",
        "  plt.ylabel('Mean Abs Error [MPG]')\n",
        "  plt.plot(hist['epoch'], hist['mae'],\n",
        "           label='Train Error')\n",
        "  plt.plot(hist['epoch'], hist['val_mae'],\n",
        "           label = 'Val Error')\n",
        "  plt.ylim([0,5])\n",
        "  plt.legend()\n",
        "\n",
        "  plt.figure()\n",
        "  plt.xlabel('Epoch')\n",
        "  plt.ylabel('Mean Square Error [$MPG^2$]')\n",
        "  plt.plot(hist['epoch'], hist['mse'],\n",
        "           label='Train Error')\n",
        "  plt.plot(hist['epoch'], hist['val_mse'],\n",
        "           label = 'Val Error')\n",
        "  plt.ylim([0,20])\n",
        "  plt.legend()\n",
        "  plt.show()\n",
        "\n",
        "\n",
        "plot_history(history)"
      ],
      "execution_count": null,
      "outputs": [
        {
          "output_type": "display_data",
          "data": {
            "image/png": "[encoded data removed]",
            "text/plain": [
              "<Figure size 432x288 with 1 Axes>"
            ]
          },
          "metadata": {
            "tags": [],
            "needs_background": "light"
          }
        },
        {
          "output_type": "display_data",
          "data": {
            "image/png": "[encoded data removed]",
            "text/plain": [
              "<Figure size 432x288 with 1 Axes>"
            ]
          },
          "metadata": {
            "tags": [],
            "needs_background": "light"
          }
        }
      ]
    },
    {
      "cell_type": "code",
      "metadata": {
        "colab": {
          "base_uri": "https://localhost:8080/",
          "height": 585
        },
        "id": "z7K9fbM4xoNm",
        "outputId": "b6f320e9-a690-4a78-867e-428b24a5509a"
      },
      "source": [
        "model = build_model()\n",
        "\n",
        "# patience 值用来检查改进 epochs 的数量\n",
        "early_stop = keras.callbacks.EarlyStopping(monitor='val_loss', patience=10)\n",
        "\n",
        "history = model.fit(normed_train_data, train_labels, epochs=EPOCHS,\n",
        "                    validation_split = 0.2, verbose=0, callbacks=[early_stop, PrintDot()])\n",
        "\n",
        "plot_history(history)"
      ],
      "execution_count": null,
      "outputs": [
        {
          "output_type": "stream",
          "text": [
            "\n",
            "...................................................."
          ],
          "name": "stdout"
        },
        {
          "output_type": "display_data",
          "data": {
            "image/png": "[encoded data removed]",
            "text/plain": [
              "<Figure size 432x288 with 1 Axes>"
            ]
          },
          "metadata": {
            "tags": [],
            "needs_background": "light"
          }
        },
        {
          "output_type": "display_data",
          "data": {
            "image/png": "[encoded data removed]",
            "text/plain": [
              "<Figure size 432x288 with 1 Axes>"
            ]
          },
          "metadata": {
            "tags": [],
            "needs_background": "light"
          }
        }
      ]
    },
    {
      "cell_type": "code",
      "metadata": {
        "colab": {
          "base_uri": "https://localhost:8080/",
          "height": 315
        },
        "id": "jTx6FrMjx1SM",
        "outputId": "9770617b-4cb1-46a3-f436-1e01acf94a17"
      },
      "source": [
        "loss, mae, mse = model.evaluate(normed_test_data, test_labels, verbose=2)\n",
        "\n",
        "print(\"Testing set Mean Abs Error: {:5.2f} MPG\".format(mae))\n",
        "\n",
        "test_predictions = model.predict(normed_test_data).flatten()\n",
        "\n",
        "plt.scatter(test_labels, test_predictions)\n",
        "plt.xlabel('True Values [MPG]')\n",
        "plt.ylabel('Predictions [MPG]')\n",
        "plt.axis('equal')\n",
        "plt.axis('square')\n",
        "plt.xlim([0,plt.xlim()[1]])\n",
        "plt.ylim([0,plt.ylim()[1]])\n",
        "_ = plt.plot([-100, 100], [-100, 100])\n",
        "\n",
        "\n"
      ],
      "execution_count": null,
      "outputs": [
        {
          "output_type": "stream",
          "text": [
            "3/3 - 0s - loss: 5.4233 - mae: 1.7609 - mse: 5.4233\n",
            "Testing set Mean Abs Error:  1.76 MPG\n"
          ],
          "name": "stdout"
        },
        {
          "output_type": "display_data",
          "data": {
            "image/png": "[encoded data removed]",
            "text/plain": [
              "<Figure size 432x288 with 1 Axes>"
            ]
          },
          "metadata": {
            "tags": [],
            "needs_background": "light"
          }
        }
      ]
    },
    {
      "cell_type": "code",
      "metadata": {
        "colab": {
          "base_uri": "https://localhost:8080/",
          "height": 279
        },
        "id": "FamWZB0XyJQR",
        "outputId": "f8c7e5a4-33b9-4f0c-cabb-8d5ba842543f"
      },
      "source": [
        "error = test_predictions - test_labels\n",
        "plt.hist(error, bins = 25)\n",
        "plt.xlabel(\"Prediction Error [MPG]\")\n",
        "_ = plt.ylabel(\"Count\")"
      ],
      "execution_count": null,
      "outputs": [
        {
          "output_type": "display_data",
          "data": {
            "image/png": "[encoded data removed]",
            "text/plain": [
              "<Figure size 432x288 with 1 Axes>"
            ]
          },
          "metadata": {
            "tags": [],
            "needs_background": "light"
          }
        }
      ]
    }
  ]
}